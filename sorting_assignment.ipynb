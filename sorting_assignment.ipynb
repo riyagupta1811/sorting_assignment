{
 "cells": [
  {
   "cell_type": "code",
   "execution_count": null,
   "id": "49f706bc-49b2-44d0-834e-56bc131b69b4",
   "metadata": {},
   "outputs": [],
   "source": [
    "#question 1"
   ]
  },
  {
   "cell_type": "code",
   "execution_count": 1,
   "id": "e7056879-519f-4379-8c5d-53b0f1c30c1c",
   "metadata": {},
   "outputs": [
    {
     "name": "stdout",
     "output_type": "stream",
     "text": [
      "2\n"
     ]
    }
   ],
   "source": [
    "def count_frequencies(arr, freq=None, idx=0):\n",
    "    if freq is None:\n",
    "        freq = {}\n",
    "    \n",
    "    # Base case: If we have reached the end of the array\n",
    "    if idx == len(arr):\n",
    "        return freq\n",
    "    \n",
    "    # Add the current element to the frequency dictionary\n",
    "    freq[arr[idx]] = freq.get(arr[idx], 0) + 1\n",
    "    \n",
    "    # Recursive call for the next index\n",
    "    return count_frequencies(arr, freq, idx + 1)\n",
    "\n",
    "def find_max_frequency_recursive(arr):\n",
    "    # Count frequencies recursively\n",
    "    freq = count_frequencies(arr)\n",
    "    \n",
    "    # Find the element with the maximum frequency recursively\n",
    "    def max_element(freq_dict, max_elem=None, max_count=0):\n",
    "        if not freq_dict:\n",
    "            return max_elem  # Base case: If dictionary is empty\n",
    "        \n",
    "        # Take the first key-value pair\n",
    "        elem, count = freq_dict.popitem()\n",
    "        \n",
    "        # Update max_elem if the current element's count is greater\n",
    "        if count > max_count:\n",
    "            max_elem, max_count = elem, count\n",
    "        \n",
    "        # Recursive call with the remaining dictionary\n",
    "        return max_element(freq_dict, max_elem, max_count)\n",
    "    \n",
    "    return max_element(freq)\n",
    "\n",
    "# Example\n",
    "arr = [1, 2, 2, 3, 1, 4, 2]\n",
    "print(find_max_frequency_recursive(arr)) \n"
   ]
  },
  {
   "cell_type": "code",
   "execution_count": null,
   "id": "ff49e03d-bec3-447e-bdb2-1478267c0b36",
   "metadata": {},
   "outputs": [],
   "source": [
    "#question 2"
   ]
  },
  {
   "cell_type": "code",
   "execution_count": 2,
   "id": "56b451ba-a447-4b08-8070-1c3f2c9a42fa",
   "metadata": {},
   "outputs": [
    {
     "name": "stdout",
     "output_type": "stream",
     "text": [
      "5\n"
     ]
    }
   ],
   "source": [
    "def find_missing_number(arr, n):\n",
    "    total = n * (n + 1) // 2\n",
    "    return total - sum(arr)\n",
    "\n",
    "# Example\n",
    "arr = [1, 2, 4, 6, 3, 7, 8]\n",
    "n = 8\n",
    "print(find_missing_number(arr, n)) \n"
   ]
  },
  {
   "cell_type": "code",
   "execution_count": null,
   "id": "c8471a06-89fd-4b9a-8b70-bc4d9b0b18f7",
   "metadata": {},
   "outputs": [],
   "source": [
    "#question 3"
   ]
  },
  {
   "cell_type": "code",
   "execution_count": 3,
   "id": "0a5a180f-0673-4f54-8fd4-a69518fdf2b6",
   "metadata": {},
   "outputs": [
    {
     "name": "stdout",
     "output_type": "stream",
     "text": [
      "3\n"
     ]
    }
   ],
   "source": [
    "def find_odd_occurrence(arr):\n",
    "    result = 0\n",
    "    for num in arr:\n",
    "        result ^= num\n",
    "    return result\n",
    "\n",
    "# Example\n",
    "arr = [1, 2, 3, 2, 3, 1, 3]\n",
    "print(find_odd_occurrence(arr)) \n"
   ]
  },
  {
   "cell_type": "code",
   "execution_count": null,
   "id": "f641eaee-304a-4f8c-9e8a-3628b32ef6cb",
   "metadata": {},
   "outputs": [],
   "source": [
    "#question 4"
   ]
  },
  {
   "cell_type": "code",
   "execution_count": 4,
   "id": "3c379f70-af78-460d-a7c2-44d8fbffc859",
   "metadata": {},
   "outputs": [
    {
     "name": "stdout",
     "output_type": "stream",
     "text": [
      "(6, 10)\n"
     ]
    }
   ],
   "source": [
    "def find_pair_with_sum(arr, K):\n",
    "    seen = set()\n",
    "    for num in arr:\n",
    "        if K - num in seen:\n",
    "            return (K - num, num)\n",
    "        seen.add(num)\n",
    "    return None\n",
    "\n",
    "# Example\n",
    "arr = [1, 4, 45, 6, 10, 8]\n",
    "K = 16\n",
    "print(find_pair_with_sum(arr, K))"
   ]
  },
  {
   "cell_type": "code",
   "execution_count": null,
   "id": "48ac277e-8024-435c-852f-f5a6a6ecbfd7",
   "metadata": {},
   "outputs": [],
   "source": [
    "#question 5"
   ]
  },
  {
   "cell_type": "code",
   "execution_count": 5,
   "id": "3fd988cd-b208-4374-9f35-5e0fab838ed7",
   "metadata": {},
   "outputs": [
    {
     "name": "stdout",
     "output_type": "stream",
     "text": [
      "(-80, 85)\n"
     ]
    }
   ],
   "source": [
    "def closest_to_zero(arr):\n",
    "    arr.sort()\n",
    "    left, right = 0, len(arr) - 1\n",
    "    min_sum = float('inf')\n",
    "    closest_pair = (None, None)\n",
    "    \n",
    "    while left < right:\n",
    "        curr_sum = arr[left] + arr[right]\n",
    "        if abs(curr_sum) < abs(min_sum):\n",
    "            min_sum = curr_sum\n",
    "            closest_pair = (arr[left], arr[right])\n",
    "        if curr_sum < 0:\n",
    "            left += 1\n",
    "        else:\n",
    "            right -= 1\n",
    "    return closest_pair\n",
    "\n",
    "# Example\n",
    "arr = [1, 60, -10, 70, -80, 85]\n",
    "print(closest_to_zero(arr)) \n"
   ]
  },
  {
   "cell_type": "code",
   "execution_count": null,
   "id": "11d49194-50d5-4ef0-8aef-1de6dc6b16ab",
   "metadata": {},
   "outputs": [],
   "source": [
    "#question 6"
   ]
  },
  {
   "cell_type": "code",
   "execution_count": 6,
   "id": "de619bdf-610b-4beb-a756-7dfa0aaa3afd",
   "metadata": {},
   "outputs": [
    {
     "name": "stdout",
     "output_type": "stream",
     "text": [
      "(4, 8, 10)\n"
     ]
    }
   ],
   "source": [
    "def find_triplet_with_sum(arr, target):\n",
    "    arr.sort()\n",
    "    for i in range(len(arr) - 2):\n",
    "        left, right = i + 1, len(arr) - 1\n",
    "        while left < right:\n",
    "            curr_sum = arr[i] + arr[left] + arr[right]\n",
    "            if curr_sum == target:\n",
    "                return (arr[i], arr[left], arr[right])\n",
    "            elif curr_sum < target:\n",
    "                left += 1\n",
    "            else:\n",
    "                right -= 1\n",
    "    return None\n",
    "\n",
    "# Example\n",
    "arr = [1, 4, 45, 6, 10, 8]\n",
    "target = 22\n",
    "print(find_triplet_with_sum(arr, target)) "
   ]
  },
  {
   "cell_type": "code",
   "execution_count": null,
   "id": "aa88f03c-cfff-4f66-a320-cebeca4711fb",
   "metadata": {},
   "outputs": [],
   "source": [
    "#question 7"
   ]
  },
  {
   "cell_type": "code",
   "execution_count": 7,
   "id": "464c42a8-2eae-4b2c-bbb1-34d570205d14",
   "metadata": {},
   "outputs": [
    {
     "name": "stdout",
     "output_type": "stream",
     "text": [
      "(3, 4, 5)\n"
     ]
    }
   ],
   "source": [
    "def find_pythagorean_triplet(arr):\n",
    "    squares = {x*x: x for x in arr}\n",
    "    for i in range(len(arr)):\n",
    "        for j in range(i + 1, len(arr)):\n",
    "            sum_squares = arr[i]**2 + arr[j]**2\n",
    "            if sum_squares in squares:\n",
    "                return (arr[i], arr[j], squares[sum_squares])\n",
    "    return None\n",
    "\n",
    "# Example\n",
    "arr = [3, 1, 4, 6, 5]\n",
    "print(find_pythagorean_triplet(arr)) "
   ]
  },
  {
   "cell_type": "code",
   "execution_count": null,
   "id": "308b5095-c576-44f7-ab8c-d90f98df84ca",
   "metadata": {},
   "outputs": [],
   "source": [
    "#question 8"
   ]
  },
  {
   "cell_type": "code",
   "execution_count": 8,
   "id": "a43596e4-8373-48e4-bb28-b03c908cca17",
   "metadata": {},
   "outputs": [
    {
     "name": "stdout",
     "output_type": "stream",
     "text": [
      "4\n"
     ]
    }
   ],
   "source": [
    "def find_majority_element(arr):\n",
    "    candidate, count = None, 0\n",
    "    for num in arr:\n",
    "        if count == 0:\n",
    "            candidate, count = num, 1\n",
    "        elif num == candidate:\n",
    "            count += 1\n",
    "        else:\n",
    "            count -= 1\n",
    "    if arr.count(candidate) > len(arr) // 2:\n",
    "        return candidate\n",
    "    return None\n",
    "\n",
    "# Example\n",
    "arr = [3, 3, 4, 2, 4, 4, 2, 4, 4]\n",
    "print(find_majority_element(arr)) "
   ]
  },
  {
   "cell_type": "code",
   "execution_count": null,
   "id": "ba5a5f12-83c8-41cd-ba69-2fc33b36b118",
   "metadata": {},
   "outputs": [],
   "source": [
    "#question 9"
   ]
  },
  {
   "cell_type": "code",
   "execution_count": 9,
   "id": "909f5b27-7b60-4036-b1cc-058beb2c38d0",
   "metadata": {},
   "outputs": [
    {
     "name": "stdout",
     "output_type": "stream",
     "text": [
      "1\n"
     ]
    }
   ],
   "source": [
    "def row_with_max_zeros(matrix):\n",
    "    max_zeros, row_index = 0, -1\n",
    "    n = len(matrix)\n",
    "    j = n - 1\n",
    "    for i in range(n):\n",
    "        while j >= 0 and matrix[i][j] == 0:\n",
    "            j -= 1\n",
    "        zeros = n - j - 1\n",
    "        if zeros > max_zeros:\n",
    "            max_zeros, row_index = zeros, i\n",
    "    return row_index\n",
    "\n",
    "# Example\n",
    "matrix = [[1, 1, 1, 0], [1, 0, 0, 0], [1, 1, 0, 0]]\n",
    "print(row_with_max_zeros(matrix)) "
   ]
  },
  {
   "cell_type": "code",
   "execution_count": null,
   "id": "ca181648-ff97-44db-8765-800e0f23a092",
   "metadata": {},
   "outputs": [],
   "source": [
    "#question 10"
   ]
  },
  {
   "cell_type": "code",
   "execution_count": 10,
   "id": "41f47135-ab1e-4dfa-8783-c065bd931660",
   "metadata": {},
   "outputs": [
    {
     "name": "stdout",
     "output_type": "stream",
     "text": [
      "[0, 0, 0, 0, 0, 1, 1, 1, 1, 1, 2, 2]\n"
     ]
    }
   ],
   "source": [
    "def sort_012(arr):\n",
    "    low, mid, high = 0, 0, len(arr) - 1\n",
    "    while mid <= high:\n",
    "        if arr[mid] == 0:\n",
    "            arr[low], arr[mid] = arr[mid], arr[low]\n",
    "            low, mid = low + 1, mid + 1\n",
    "        elif arr[mid] == 1:\n",
    "            mid += 1\n",
    "        else:\n",
    "            arr[mid], arr[high] = arr[high], arr[mid]\n",
    "            high -= 1\n",
    "    return arr\n",
    "\n",
    "# Example\n",
    "arr = [0, 1, 1, 0, 1, 2, 1, 2, 0, 0, 0, 1]\n",
    "print(sort_012(arr)) "
   ]
  },
  {
   "cell_type": "code",
   "execution_count": null,
   "id": "601ffe8f-bd40-4413-aa1b-ced25a33dffc",
   "metadata": {},
   "outputs": [],
   "source": []
  }
 ],
 "metadata": {
  "kernelspec": {
   "display_name": "Python 3 (ipykernel)",
   "language": "python",
   "name": "python3"
  },
  "language_info": {
   "codemirror_mode": {
    "name": "ipython",
    "version": 3
   },
   "file_extension": ".py",
   "mimetype": "text/x-python",
   "name": "python",
   "nbconvert_exporter": "python",
   "pygments_lexer": "ipython3",
   "version": "3.12.1"
  }
 },
 "nbformat": 4,
 "nbformat_minor": 5
}
